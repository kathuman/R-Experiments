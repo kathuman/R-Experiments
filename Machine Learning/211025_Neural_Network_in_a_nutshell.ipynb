{
 "cells": [
  {
   "cell_type": "code",
   "execution_count": 3,
   "metadata": {},
   "outputs": [
    {
     "name": "stderr",
     "output_type": "stream",
     "text": [
      "Warning message:\n",
      "\"package 'neuralnet' was built under R version 3.6.3\""
     ]
    },
    {
     "data": {
      "image/png": "[encoded data removed]",
      "text/plain": [
       "plot without title"
      ]
     },
     "metadata": {},
     "output_type": "display_data"
    }
   ],
   "source": [
    "library(neuralnet)\n",
    "set.seed(123)\n",
    "AND <- c(rep(0,3),1)\n",
    "binary.data <- data.frame(expand.grid(c(0,1),c(0,1)), AND)\n",
    "net <- neuralnet(AND ~Var1 + Var2, binary.data, hidden=0, err.fct =\"ce\", linear.output =FALSE)\n",
    "plot(net,rep=\"best\")"
   ]
  },
  {
   "cell_type": "code",
   "execution_count": 4,
   "metadata": {},
   "outputs": [
    {
     "name": "stderr",
     "output_type": "stream",
     "text": [
      "Data Error:\t0;\n"
     ]
    },
    {
     "data": {
      "text/html": [
       "<dl>\n",
       "\t<dt>$rep1</dt>\n",
       "\t\t<dd><table>\n",
       "<thead><tr><th scope=col>Var1</th><th scope=col>Var2</th><th scope=col>AND</th></tr></thead>\n",
       "<tbody>\n",
       "\t<tr><td>0           </td><td>0           </td><td>7.064116e-06</td></tr>\n",
       "\t<tr><td>1           </td><td>0           </td><td>1.619615e-02</td></tr>\n",
       "\t<tr><td>0           </td><td>1           </td><td>1.621788e-02</td></tr>\n",
       "\t<tr><td>1           </td><td>1           </td><td>9.746310e-01</td></tr>\n",
       "</tbody>\n",
       "</table>\n",
       "</dd>\n",
       "\t<dt>$data</dt>\n",
       "\t\t<dd><table>\n",
       "<thead><tr><th scope=col>Var1</th><th scope=col>Var2</th><th scope=col>AND</th></tr></thead>\n",
       "<tbody>\n",
       "\t<tr><td>0</td><td>0</td><td>0</td></tr>\n",
       "\t<tr><td>1</td><td>0</td><td>0</td></tr>\n",
       "\t<tr><td>0</td><td>1</td><td>0</td></tr>\n",
       "\t<tr><td>1</td><td>1</td><td>1</td></tr>\n",
       "</tbody>\n",
       "</table>\n",
       "</dd>\n",
       "</dl>\n"
      ],
      "text/latex": [
       "\\begin{description}\n",
       "\\item[\\$rep1] \\begin{tabular}{r|lll}\n",
       " Var1 & Var2 & AND\\\\\n",
       "\\hline\n",
       "\t 0            & 0            & 7.064116e-06\\\\\n",
       "\t 1            & 0            & 1.619615e-02\\\\\n",
       "\t 0            & 1            & 1.621788e-02\\\\\n",
       "\t 1            & 1            & 9.746310e-01\\\\\n",
       "\\end{tabular}\n",
       "\n",
       "\\item[\\$data] \\begin{tabular}{r|lll}\n",
       " Var1 & Var2 & AND\\\\\n",
       "\\hline\n",
       "\t 0 & 0 & 0\\\\\n",
       "\t 1 & 0 & 0\\\\\n",
       "\t 0 & 1 & 0\\\\\n",
       "\t 1 & 1 & 1\\\\\n",
       "\\end{tabular}\n",
       "\n",
       "\\end{description}\n"
      ],
      "text/markdown": [
       "$rep1\n",
       ":   \n",
       "| Var1 | Var2 | AND |\n",
       "|---|---|---|\n",
       "| 0            | 0            | 7.064116e-06 |\n",
       "| 1            | 0            | 1.619615e-02 |\n",
       "| 0            | 1            | 1.621788e-02 |\n",
       "| 1            | 1            | 9.746310e-01 |\n",
       "\n",
       "\n",
       "$data\n",
       ":   \n",
       "| Var1 | Var2 | AND |\n",
       "|---|---|---|\n",
       "| 0 | 0 | 0 |\n",
       "| 1 | 0 | 0 |\n",
       "| 0 | 1 | 0 |\n",
       "| 1 | 1 | 1 |\n",
       "\n",
       "\n",
       "\n",
       "\n"
      ],
      "text/plain": [
       "$rep1\n",
       "  Var1 Var2          AND\n",
       "1    0    0 7.064116e-06\n",
       "2    1    0 1.619615e-02\n",
       "3    0    1 1.621788e-02\n",
       "4    1    1 9.746310e-01\n",
       "\n",
       "$data\n",
       "  Var1 Var2 AND\n",
       "1    0    0   0\n",
       "2    1    0   0\n",
       "3    0    1   0\n",
       "4    1    1   1\n"
      ]
     },
     "metadata": {},
     "output_type": "display_data"
    }
   ],
   "source": [
    "prediction(net)"
   ]
  },
  {
   "cell_type": "code",
   "execution_count": 10,
   "metadata": {},
   "outputs": [
    {
     "data": {
      "image/png": "[encoded data removed]",
      "text/plain": [
       "plot without title"
      ]
     },
     "metadata": {},
     "output_type": "display_data"
    }
   ],
   "source": [
    "set.seed(123)\n",
    "AND <- c(rep(0,7),1)\n",
    "OR <- c(0,rep(1,7))\n",
    "binary.data <- data.frame(expand.grid(c(0,1), c(0,1), c(0,1)), AND, OR)\n",
    "net <- neuralnet(AND+OR ~ Var1 + Var2 + Var3, binary.data, hidden=0, err.fct = \"ce\", linear.output=FALSE)\n",
    "plot(net, rep=\"best\")"
   ]
  },
  {
   "cell_type": "code",
   "execution_count": 8,
   "metadata": {},
   "outputs": [
    {
     "name": "stderr",
     "output_type": "stream",
     "text": [
      "Data Error:\t0;\n"
     ]
    },
    {
     "data": {
      "text/html": [
       "<dl>\n",
       "\t<dt>$rep1</dt>\n",
       "\t\t<dd><table>\n",
       "<thead><tr><th scope=col>Var1</th><th scope=col>Var2</th><th scope=col>Var3</th><th scope=col>AND</th><th scope=col>OR</th></tr></thead>\n",
       "<tbody>\n",
       "\t<tr><td>0           </td><td>0           </td><td>0           </td><td>1.045615e-08</td><td>7.220621e-05</td></tr>\n",
       "\t<tr><td>1           </td><td>0           </td><td>0           </td><td>1.426236e-05</td><td>9.999977e-01</td></tr>\n",
       "\t<tr><td>0           </td><td>1           </td><td>0           </td><td>1.409371e-05</td><td>9.999919e-01</td></tr>\n",
       "\t<tr><td>1           </td><td>1           </td><td>0           </td><td>1.886199e-02</td><td>1.000000e+00</td></tr>\n",
       "\t<tr><td>0           </td><td>0           </td><td>1           </td><td>1.228339e-05</td><td>9.999546e-01</td></tr>\n",
       "\t<tr><td>1           </td><td>0           </td><td>1           </td><td>1.647909e-02</td><td>1.000000e+00</td></tr>\n",
       "\t<tr><td>0           </td><td>1           </td><td>1           </td><td>1.628740e-02</td><td>1.000000e+00</td></tr>\n",
       "\t<tr><td>1           </td><td>1           </td><td>1           </td><td>9.575992e-01</td><td>1.000000e+00</td></tr>\n",
       "</tbody>\n",
       "</table>\n",
       "</dd>\n",
       "\t<dt>$data</dt>\n",
       "\t\t<dd><table>\n",
       "<thead><tr><th scope=col>Var1</th><th scope=col>Var2</th><th scope=col>Var3</th><th scope=col>AND</th><th scope=col>OR</th></tr></thead>\n",
       "<tbody>\n",
       "\t<tr><td>0</td><td>0</td><td>0</td><td>0</td><td>0</td></tr>\n",
       "\t<tr><td>1</td><td>0</td><td>0</td><td>0</td><td>1</td></tr>\n",
       "\t<tr><td>0</td><td>1</td><td>0</td><td>0</td><td>1</td></tr>\n",
       "\t<tr><td>1</td><td>1</td><td>0</td><td>0</td><td>1</td></tr>\n",
       "\t<tr><td>0</td><td>0</td><td>1</td><td>0</td><td>1</td></tr>\n",
       "\t<tr><td>1</td><td>0</td><td>1</td><td>0</td><td>1</td></tr>\n",
       "\t<tr><td>0</td><td>1</td><td>1</td><td>0</td><td>1</td></tr>\n",
       "\t<tr><td>1</td><td>1</td><td>1</td><td>1</td><td>1</td></tr>\n",
       "</tbody>\n",
       "</table>\n",
       "</dd>\n",
       "</dl>\n"
      ],
      "text/latex": [
       "\\begin{description}\n",
       "\\item[\\$rep1] \\begin{tabular}{r|lllll}\n",
       " Var1 & Var2 & Var3 & AND & OR\\\\\n",
       "\\hline\n",
       "\t 0            & 0            & 0            & 1.045615e-08 & 7.220621e-05\\\\\n",
       "\t 1            & 0            & 0            & 1.426236e-05 & 9.999977e-01\\\\\n",
       "\t 0            & 1            & 0            & 1.409371e-05 & 9.999919e-01\\\\\n",
       "\t 1            & 1            & 0            & 1.886199e-02 & 1.000000e+00\\\\\n",
       "\t 0            & 0            & 1            & 1.228339e-05 & 9.999546e-01\\\\\n",
       "\t 1            & 0            & 1            & 1.647909e-02 & 1.000000e+00\\\\\n",
       "\t 0            & 1            & 1            & 1.628740e-02 & 1.000000e+00\\\\\n",
       "\t 1            & 1            & 1            & 9.575992e-01 & 1.000000e+00\\\\\n",
       "\\end{tabular}\n",
       "\n",
       "\\item[\\$data] \\begin{tabular}{r|lllll}\n",
       " Var1 & Var2 & Var3 & AND & OR\\\\\n",
       "\\hline\n",
       "\t 0 & 0 & 0 & 0 & 0\\\\\n",
       "\t 1 & 0 & 0 & 0 & 1\\\\\n",
       "\t 0 & 1 & 0 & 0 & 1\\\\\n",
       "\t 1 & 1 & 0 & 0 & 1\\\\\n",
       "\t 0 & 0 & 1 & 0 & 1\\\\\n",
       "\t 1 & 0 & 1 & 0 & 1\\\\\n",
       "\t 0 & 1 & 1 & 0 & 1\\\\\n",
       "\t 1 & 1 & 1 & 1 & 1\\\\\n",
       "\\end{tabular}\n",
       "\n",
       "\\end{description}\n"
      ],
      "text/markdown": [
       "$rep1\n",
       ":   \n",
       "| Var1 | Var2 | Var3 | AND | OR |\n",
       "|---|---|---|---|---|\n",
       "| 0            | 0            | 0            | 1.045615e-08 | 7.220621e-05 |\n",
       "| 1            | 0            | 0            | 1.426236e-05 | 9.999977e-01 |\n",
       "| 0            | 1            | 0            | 1.409371e-05 | 9.999919e-01 |\n",
       "| 1            | 1            | 0            | 1.886199e-02 | 1.000000e+00 |\n",
       "| 0            | 0            | 1            | 1.228339e-05 | 9.999546e-01 |\n",
       "| 1            | 0            | 1            | 1.647909e-02 | 1.000000e+00 |\n",
       "| 0            | 1            | 1            | 1.628740e-02 | 1.000000e+00 |\n",
       "| 1            | 1            | 1            | 9.575992e-01 | 1.000000e+00 |\n",
       "\n",
       "\n",
       "$data\n",
       ":   \n",
       "| Var1 | Var2 | Var3 | AND | OR |\n",
       "|---|---|---|---|---|\n",
       "| 0 | 0 | 0 | 0 | 0 |\n",
       "| 1 | 0 | 0 | 0 | 1 |\n",
       "| 0 | 1 | 0 | 0 | 1 |\n",
       "| 1 | 1 | 0 | 0 | 1 |\n",
       "| 0 | 0 | 1 | 0 | 1 |\n",
       "| 1 | 0 | 1 | 0 | 1 |\n",
       "| 0 | 1 | 1 | 0 | 1 |\n",
       "| 1 | 1 | 1 | 1 | 1 |\n",
       "\n",
       "\n",
       "\n",
       "\n"
      ],
      "text/plain": [
       "$rep1\n",
       "  Var1 Var2 Var3          AND           OR\n",
       "1    0    0    0 1.045615e-08 7.220621e-05\n",
       "2    1    0    0 1.426236e-05 9.999977e-01\n",
       "3    0    1    0 1.409371e-05 9.999919e-01\n",
       "4    1    1    0 1.886199e-02 1.000000e+00\n",
       "5    0    0    1 1.228339e-05 9.999546e-01\n",
       "6    1    0    1 1.647909e-02 1.000000e+00\n",
       "7    0    1    1 1.628740e-02 1.000000e+00\n",
       "8    1    1    1 9.575992e-01 1.000000e+00\n",
       "\n",
       "$data\n",
       "  Var1 Var2 Var3 AND OR\n",
       "1    0    0    0   0  0\n",
       "2    1    0    0   0  1\n",
       "3    0    1    0   0  1\n",
       "4    1    1    0   0  1\n",
       "5    0    0    1   0  1\n",
       "6    1    0    1   0  1\n",
       "7    0    1    1   0  1\n",
       "8    1    1    1   1  1\n"
      ]
     },
     "metadata": {},
     "output_type": "display_data"
    }
   ],
   "source": [
    "prediction(net)"
   ]
  }
 ],
 "metadata": {
  "kernelspec": {
   "display_name": "R",
   "language": "R",
   "name": "ir"
  },
  "language_info": {
   "codemirror_mode": "r",
   "file_extension": ".r",
   "mimetype": "text/x-r-source",
   "name": "R",
   "pygments_lexer": "r",
   "version": "3.6.1"
  }
 },
 "nbformat": 4,
 "nbformat_minor": 4
}
