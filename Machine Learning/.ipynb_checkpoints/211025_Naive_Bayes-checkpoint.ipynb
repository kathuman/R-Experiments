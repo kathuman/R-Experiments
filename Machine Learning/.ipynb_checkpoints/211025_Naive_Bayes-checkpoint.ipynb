{
 "cells": [
  {
   "cell_type": "code",
   "execution_count": 5,
   "metadata": {},
   "outputs": [],
   "source": [
    "library(e1071)\n",
    "breast_cancer <- data.frame(read.table(\"breast-cancer.txt\", header=T, sep=\",\"))\n",
    "names(breast_cancer) <- c(\"SampleCodeNumber\",\"ClumpThickness\",\"UniformityofCellSize\",\n",
    "                          \"UniformityofCellShape\",\"MarginalAdhesion\",\"SingleEpithelialCellSize\",\n",
    "                          \"BareNuclei\",\"BlandChromatin\",\"NormalNucleoli\",\"Mitoses\",\"Class\")"
   ]
  },
  {
   "cell_type": "code",
   "execution_count": 6,
   "metadata": {},
   "outputs": [
    {
     "data": {
      "text/html": [
       "<table>\n",
       "<thead><tr><th scope=col>SampleCodeNumber</th><th scope=col>ClumpThickness</th><th scope=col>UniformityofCellSize</th><th scope=col>UniformityofCellShape</th><th scope=col>MarginalAdhesion</th><th scope=col>SingleEpithelialCellSize</th><th scope=col>BareNuclei</th><th scope=col>BlandChromatin</th><th scope=col>NormalNucleoli</th><th scope=col>Mitoses</th><th scope=col>Class</th></tr></thead>\n",
       "<tbody>\n",
       "\t<tr><td>1002945</td><td>5      </td><td> 4     </td><td> 4     </td><td>5      </td><td>7      </td><td>10     </td><td>3      </td><td>2      </td><td>1      </td><td>2      </td></tr>\n",
       "\t<tr><td>1015425</td><td>3      </td><td> 1     </td><td> 1     </td><td>1      </td><td>2      </td><td>2      </td><td>3      </td><td>1      </td><td>1      </td><td>2      </td></tr>\n",
       "\t<tr><td>1016277</td><td>6      </td><td> 8     </td><td> 8     </td><td>1      </td><td>3      </td><td>4      </td><td>3      </td><td>7      </td><td>1      </td><td>2      </td></tr>\n",
       "\t<tr><td>1017023</td><td>4      </td><td> 1     </td><td> 1     </td><td>3      </td><td>2      </td><td>1      </td><td>3      </td><td>1      </td><td>1      </td><td>2      </td></tr>\n",
       "\t<tr><td>1017122</td><td>8      </td><td>10     </td><td>10     </td><td>8      </td><td>7      </td><td>10     </td><td>9      </td><td>7      </td><td>1      </td><td>4      </td></tr>\n",
       "\t<tr><td>1018099</td><td>1      </td><td> 1     </td><td> 1     </td><td>1      </td><td>2      </td><td>10     </td><td>3      </td><td>1      </td><td>1      </td><td>2      </td></tr>\n",
       "</tbody>\n",
       "</table>\n"
      ],
      "text/latex": [
       "\\begin{tabular}{r|lllllllllll}\n",
       " SampleCodeNumber & ClumpThickness & UniformityofCellSize & UniformityofCellShape & MarginalAdhesion & SingleEpithelialCellSize & BareNuclei & BlandChromatin & NormalNucleoli & Mitoses & Class\\\\\n",
       "\\hline\n",
       "\t 1002945 & 5       &  4      &  4      & 5       & 7       & 10      & 3       & 2       & 1       & 2      \\\\\n",
       "\t 1015425 & 3       &  1      &  1      & 1       & 2       & 2       & 3       & 1       & 1       & 2      \\\\\n",
       "\t 1016277 & 6       &  8      &  8      & 1       & 3       & 4       & 3       & 7       & 1       & 2      \\\\\n",
       "\t 1017023 & 4       &  1      &  1      & 3       & 2       & 1       & 3       & 1       & 1       & 2      \\\\\n",
       "\t 1017122 & 8       & 10      & 10      & 8       & 7       & 10      & 9       & 7       & 1       & 4      \\\\\n",
       "\t 1018099 & 1       &  1      &  1      & 1       & 2       & 10      & 3       & 1       & 1       & 2      \\\\\n",
       "\\end{tabular}\n"
      ],
      "text/markdown": [
       "\n",
       "| SampleCodeNumber | ClumpThickness | UniformityofCellSize | UniformityofCellShape | MarginalAdhesion | SingleEpithelialCellSize | BareNuclei | BlandChromatin | NormalNucleoli | Mitoses | Class |\n",
       "|---|---|---|---|---|---|---|---|---|---|---|\n",
       "| 1002945 | 5       |  4      |  4      | 5       | 7       | 10      | 3       | 2       | 1       | 2       |\n",
       "| 1015425 | 3       |  1      |  1      | 1       | 2       | 2       | 3       | 1       | 1       | 2       |\n",
       "| 1016277 | 6       |  8      |  8      | 1       | 3       | 4       | 3       | 7       | 1       | 2       |\n",
       "| 1017023 | 4       |  1      |  1      | 3       | 2       | 1       | 3       | 1       | 1       | 2       |\n",
       "| 1017122 | 8       | 10      | 10      | 8       | 7       | 10      | 9       | 7       | 1       | 4       |\n",
       "| 1018099 | 1       |  1      |  1      | 1       | 2       | 10      | 3       | 1       | 1       | 2       |\n",
       "\n"
      ],
      "text/plain": [
       "  SampleCodeNumber ClumpThickness UniformityofCellSize UniformityofCellShape\n",
       "1 1002945          5               4                    4                   \n",
       "2 1015425          3               1                    1                   \n",
       "3 1016277          6               8                    8                   \n",
       "4 1017023          4               1                    1                   \n",
       "5 1017122          8              10                   10                   \n",
       "6 1018099          1               1                    1                   \n",
       "  MarginalAdhesion SingleEpithelialCellSize BareNuclei BlandChromatin\n",
       "1 5                7                        10         3             \n",
       "2 1                2                        2          3             \n",
       "3 1                3                        4          3             \n",
       "4 3                2                        1          3             \n",
       "5 8                7                        10         9             \n",
       "6 1                2                        10         3             \n",
       "  NormalNucleoli Mitoses Class\n",
       "1 2              1       2    \n",
       "2 1              1       2    \n",
       "3 7              1       2    \n",
       "4 1              1       2    \n",
       "5 7              1       4    \n",
       "6 1              1       2    "
      ]
     },
     "metadata": {},
     "output_type": "display_data"
    }
   ],
   "source": [
    "head(breast_cancer)"
   ]
  },
  {
   "cell_type": "code",
   "execution_count": 7,
   "metadata": {},
   "outputs": [
    {
     "data": {
      "text/plain": [
       " SampleCodeNumber   ClumpThickness   UniformityofCellSize UniformityofCellShape\n",
       " Min.   :   61634   Min.   : 1.000   Min.   : 1.000       Min.   : 1.000       \n",
       " 1st Qu.:  870258   1st Qu.: 2.000   1st Qu.: 1.000       1st Qu.: 1.000       \n",
       " Median : 1171710   Median : 4.000   Median : 1.000       Median : 1.000       \n",
       " Mean   : 1071807   Mean   : 4.417   Mean   : 3.138       Mean   : 3.211       \n",
       " 3rd Qu.: 1238354   3rd Qu.: 6.000   3rd Qu.: 5.000       3rd Qu.: 5.000       \n",
       " Max.   :13454352   Max.   :10.000   Max.   :10.000       Max.   :10.000       \n",
       "                                                                               \n",
       " MarginalAdhesion SingleEpithelialCellSize   BareNuclei  BlandChromatin  \n",
       " Min.   : 1.000   Min.   : 1.000           1      :401   Min.   : 1.000  \n",
       " 1st Qu.: 1.000   1st Qu.: 2.000           10     :132   1st Qu.: 2.000  \n",
       " Median : 1.000   Median : 2.000           2      : 30   Median : 3.000  \n",
       " Mean   : 2.809   Mean   : 3.218           5      : 30   Mean   : 3.438  \n",
       " 3rd Qu.: 4.000   3rd Qu.: 4.000           3      : 28   3rd Qu.: 5.000  \n",
       " Max.   :10.000   Max.   :10.000           8      : 21   Max.   :10.000  \n",
       "                                           (Other): 56                   \n",
       " NormalNucleoli     Mitoses          Class      \n",
       " Min.   : 1.00   Min.   : 1.00   Min.   :2.000  \n",
       " 1st Qu.: 1.00   1st Qu.: 1.00   1st Qu.:2.000  \n",
       " Median : 1.00   Median : 1.00   Median :2.000  \n",
       " Mean   : 2.87   Mean   : 1.59   Mean   :2.691  \n",
       " 3rd Qu.: 4.00   3rd Qu.: 1.00   3rd Qu.:4.000  \n",
       " Max.   :10.00   Max.   :10.00   Max.   :4.000  \n",
       "                                                "
      ]
     },
     "metadata": {},
     "output_type": "display_data"
    }
   ],
   "source": [
    "summary(breast_cancer)"
   ]
  },
  {
   "cell_type": "code",
   "execution_count": 8,
   "metadata": {},
   "outputs": [
    {
     "name": "stdout",
     "output_type": "stream",
     "text": [
      "\n",
      "Naive Bayes Classifier for Discrete Predictors\n",
      "\n",
      "Call:\n",
      "naiveBayes.default(x = X, y = Y, laplace = laplace)\n",
      "\n",
      "A-priori probabilities:\n",
      "Y\n",
      "        2         4 \n",
      "0.6547278 0.3452722 \n",
      "\n",
      "Conditional probabilities:\n",
      "   ClumpThickness\n",
      "Y             1          10           2           3           4           5\n",
      "  2 0.310722101 0.000000000 0.100656455 0.210065646 0.148796499 0.183807440\n",
      "  4 0.012448133 0.286307054 0.016597510 0.049792531 0.049792531 0.186721992\n",
      "   ClumpThickness\n",
      "Y             6           7           8           9\n",
      "  2 0.035010941 0.002188184 0.008752735 0.000000000\n",
      "  4 0.074688797 0.091286307 0.174273859 0.058091286\n",
      "\n",
      "   UniformityofCellSize\n",
      "Y             1          10           2           3           4           5\n",
      "  2 0.829321663 0.000000000 0.080962801 0.059080963 0.019693654 0.000000000\n",
      "  4 0.016597510 0.278008299 0.033195021 0.103734440 0.128630705 0.124481328\n",
      "   UniformityofCellSize\n",
      "Y             6           7           8           9\n",
      "  2 0.004376368 0.002188184 0.002188184 0.002188184\n",
      "  4 0.103734440 0.074688797 0.116182573 0.020746888\n",
      "\n",
      "   UniformityofCellShape\n",
      "Y             1          10           2           3           4           5\n",
      "  2 0.765864333 0.000000000 0.113785558 0.072210066 0.028446389 0.006564551\n",
      "  4 0.008298755 0.240663900 0.029045643 0.095435685 0.128630705 0.128630705\n",
      "   UniformityofCellShape\n",
      "Y             6           7           8           9\n",
      "  2 0.006564551 0.004376368 0.002188184 0.000000000\n",
      "  4 0.112033195 0.116182573 0.112033195 0.029045643\n",
      "\n",
      "   MarginalAdhesion\n",
      "Y             1          10           2           3           4           5\n",
      "  2 0.818380744 0.002188184 0.080962801 0.067833698 0.010940919 0.008752735\n",
      "  4 0.132780083 0.224066390 0.087136929 0.112033195 0.116182573 0.078838174\n",
      "   MarginalAdhesion\n",
      "Y             6           7           8           9\n",
      "  2 0.008752735 0.000000000 0.000000000 0.002188184\n",
      "  4 0.074688797 0.053941909 0.103734440 0.016597510\n",
      "\n",
      "   SingleEpithelialCellSize\n",
      "Y             1          10           2           3           4           5\n",
      "  2 0.100656455 0.002188184 0.792122538 0.063457330 0.015317287 0.010940919\n",
      "  4 0.004149378 0.124481328 0.095435685 0.178423237 0.170124481 0.141078838\n",
      "   SingleEpithelialCellSize\n",
      "Y             6           7           8           9\n",
      "  2 0.004376368 0.006564551 0.004376368 0.000000000\n",
      "  4 0.161825726 0.037344398 0.078838174 0.008298755\n",
      "\n",
      "   BareNuclei\n",
      "Y             ?           1          10           2           3           4\n",
      "  2 0.030634573 0.844638950 0.006564551 0.045951860 0.030634573 0.013129103\n",
      "  4 0.008298755 0.062240664 0.535269710 0.037344398 0.058091286 0.053941909\n",
      "   BareNuclei\n",
      "Y             5           6           7           8           9\n",
      "  2 0.021881838 0.000000000 0.002188184 0.004376368 0.000000000\n",
      "  4 0.082987552 0.016597510 0.029045643 0.078838174 0.037344398\n",
      "\n",
      "   BlandChromatin\n",
      "Y             1          10           2           3           4           5\n",
      "  2 0.328227571 0.000000000 0.347921225 0.280087527 0.017505470 0.008752735\n",
      "  4 0.008298755 0.082987552 0.029045643 0.149377593 0.132780083 0.124481328\n",
      "   BlandChromatin\n",
      "Y             6           7           8           9\n",
      "  2 0.002188184 0.015317287 0.000000000 0.000000000\n",
      "  4 0.037344398 0.273858921 0.116182573 0.045643154\n",
      "\n",
      "   NormalNucleoli\n",
      "Y             1          10           2           3           4           5\n",
      "  2 0.877461707 0.000000000 0.065645514 0.026258206 0.002188184 0.004376368\n",
      "  4 0.170124481 0.253112033 0.024896266 0.132780083 0.070539419 0.070539419\n",
      "   NormalNucleoli\n",
      "Y             6           7           8           9\n",
      "  2 0.008752735 0.004376368 0.008752735 0.002188184\n",
      "  4 0.074688797 0.058091286 0.082987552 0.062240664\n",
      "\n",
      "   Mitoses\n",
      "Y             1          10           2           3           4           5\n",
      "  2 0.971553611 0.000000000 0.017505470 0.004376368 0.000000000 0.002188184\n",
      "  4 0.556016598 0.058091286 0.112033195 0.128630705 0.049792531 0.020746888\n",
      "   Mitoses\n",
      "Y             6           7           8\n",
      "  2 0.000000000 0.002188184 0.002188184\n",
      "  4 0.012448133 0.033195021 0.029045643\n",
      "\n"
     ]
    }
   ],
   "source": [
    "breast_cancer <- data.frame(sapply(breast_cancer, as.factor))\n",
    "breast_cancer_features <- breast_cancer[,2:11]\n",
    "nb.model <- naiveBayes(Class ~., data=breast_cancer_features)\n",
    "print(nb.model)"
   ]
  },
  {
   "cell_type": "code",
   "execution_count": null,
   "metadata": {},
   "outputs": [],
   "source": []
  }
 ],
 "metadata": {
  "kernelspec": {
   "display_name": "R",
   "language": "R",
   "name": "ir"
  },
  "language_info": {
   "codemirror_mode": "r",
   "file_extension": ".r",
   "mimetype": "text/x-r-source",
   "name": "R",
   "pygments_lexer": "r",
   "version": "3.6.1"
  }
 },
 "nbformat": 4,
 "nbformat_minor": 4
}
