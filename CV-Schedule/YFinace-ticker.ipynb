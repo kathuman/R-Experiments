{
 "cells": [
  {
   "cell_type": "code",
   "execution_count": 5,
   "metadata": {},
   "outputs": [
    {
     "name": "stdout",
     "output_type": "stream",
     "text": [
      "yfinance.Ticker object <NOVO-B.CO>\n",
      "yfinance.Ticker object <DANSKE.CO>\n"
     ]
    }
   ],
   "source": [
    "%matplotlib inline\n",
    "\n",
    "import yfinance as yf\n",
    "import matplotlib.pyplot as plt\n",
    "from pandas.plotting import register_matplotlib_converters\n",
    "register_matplotlib_converters()\n",
    "\n",
    "novo = yf.Ticker(\"NOVO-B.CO\")\n",
    "danske = yf.Ticker(\"DANSKE.CO\")\n",
    "print(novo)\n",
    "print(danske)"
   ]
  },
  {
   "cell_type": "code",
   "execution_count": 11,
   "metadata": {},
   "outputs": [
    {
     "data": {
      "text/plain": [
       "{'zip': '2880',\n",
       " 'sector': 'Healthcare',\n",
       " 'fullTimeEmployees': 42703,\n",
       " 'longBusinessSummary': \"Novo Nordisk A/S, a healthcare company, engages in the research, development, manufacture, and marketing of pharmaceutical products worldwide. It operates in two segments, Diabetes and Obesity care, and Biopharmaceuticals. The Diabetes and Obesity care segment provides products in the areas of insulins, GLP-1 and related delivery systems, oral antidiabetic products, obesity, and other chronic diseases. The Biopharmaceuticals segment offers products in the areas of haemophilia, growth disorders, and hormone replacement therapy. The company has a strategic alliance with Evotec AG to discover and develop small molecule therapies to treat patients suffering from diabetes, obesity, and co-morbidities, as well as has a research collaboration with Kallyope Inc. It also has collaboration agreements with Lund University to develop stem cell-derived treatment for Parkinson's diseases; Staten Biotechnology B.V. to develop novel therapeutics for the treatment of dyslipidaemia; Medtronic plc to develop integrated digital solutions for people with diabetes; and bluebird bio, Inc. to develop in vivo genome editing treatments for genetic diseases. The company was founded in 1923 and is headquartered in Bagsvaerd, Denmark.\",\n",
       " 'city': 'Bagsvaerd',\n",
       " 'phone': '45 44 44 88 88',\n",
       " 'country': 'Denmark',\n",
       " 'companyOfficers': [],\n",
       " 'website': 'http://www.novonordisk.com',\n",
       " 'maxAge': 1,\n",
       " 'address1': 'Novo Alle',\n",
       " 'industry': 'Biotechnology',\n",
       " 'previousClose': 431.7,\n",
       " 'regularMarketOpen': 435.8,\n",
       " 'twoHundredDayAverage': 373.36655,\n",
       " 'trailingAnnualDividendYield': 0.019342136,\n",
       " 'payoutRatio': 0.4976,\n",
       " 'volume24Hr': None,\n",
       " 'regularMarketDayHigh': 438.15,\n",
       " 'navPrice': None,\n",
       " 'averageDailyVolume10Day': 1985616,\n",
       " 'totalAssets': None,\n",
       " 'regularMarketPreviousClose': 431.7,\n",
       " 'fiftyDayAverage': 408.78088,\n",
       " 'trailingAnnualDividendRate': 8.35,\n",
       " 'open': 435.8,\n",
       " 'averageVolume10days': 1985616,\n",
       " 'expireDate': None,\n",
       " 'yield': None,\n",
       " 'algorithm': None,\n",
       " 'dividendRate': 8.15,\n",
       " 'exDividendDate': 1565913600,\n",
       " 'beta': 0.527182,\n",
       " 'circulatingSupply': None,\n",
       " 'startDate': None,\n",
       " 'regularMarketDayLow': 432.15,\n",
       " 'priceHint': 2,\n",
       " 'currency': 'DKK',\n",
       " 'trailingPE': 26.62088,\n",
       " 'regularMarketVolume': 1686902,\n",
       " 'lastMarket': None,\n",
       " 'maxSupply': None,\n",
       " 'openInterest': None,\n",
       " 'marketCap': 1024577961984,\n",
       " 'volumeAllCurrencies': None,\n",
       " 'strikePrice': None,\n",
       " 'averageVolume': 2038024,\n",
       " 'priceToSalesTrailing12Months': 8.396734,\n",
       " 'dayLow': 432.15,\n",
       " 'ask': 436.55,\n",
       " 'ytdReturn': None,\n",
       " 'askSize': 0,\n",
       " 'volume': 1686902,\n",
       " 'fiftyTwoWeekHigh': 439.5,\n",
       " 'forwardPE': 25.862988,\n",
       " 'fromCurrency': None,\n",
       " 'fiveYearAvgDividendYield': 2.32,\n",
       " 'fiftyTwoWeekLow': 310.15,\n",
       " 'bid': 436.3,\n",
       " 'tradeable': False,\n",
       " 'dividendYield': 0.0189,\n",
       " 'bidSize': 0,\n",
       " 'dayHigh': 438.15,\n",
       " 'exchange': 'CPH',\n",
       " 'shortName': 'Novo Nordisk B A/S',\n",
       " 'longName': 'Novo Nordisk A/S',\n",
       " 'exchangeTimezoneName': 'Europe/Copenhagen',\n",
       " 'exchangeTimezoneShortName': 'CET',\n",
       " 'isEsgPopulated': False,\n",
       " 'gmtOffSetMilliseconds': '3600000',\n",
       " 'quoteType': 'EQUITY',\n",
       " 'symbol': 'NOVO-B.CO',\n",
       " 'messageBoardId': 'finmb_323452',\n",
       " 'market': 'dk_market',\n",
       " 'annualHoldingsTurnover': None,\n",
       " 'enterpriseToRevenue': 8.315,\n",
       " 'beta3Year': None,\n",
       " 'profitMargins': 0.31922,\n",
       " 'enterpriseToEbitda': 17.779,\n",
       " '52WeekChange': 0.29834592,\n",
       " 'morningStarRiskRating': None,\n",
       " 'forwardEps': 16.86,\n",
       " 'revenueQuarterlyGrowth': None,\n",
       " 'sharesOutstanding': 1812240000,\n",
       " 'fundInceptionDate': None,\n",
       " 'annualReportExpenseRatio': None,\n",
       " 'bookValue': 24.487,\n",
       " 'sharesShort': None,\n",
       " 'sharesPercentSharesOut': None,\n",
       " 'fundFamily': None,\n",
       " 'lastFiscalYearEnd': 1577750400,\n",
       " 'heldPercentInstitutions': None,\n",
       " 'netIncomeToCommon': 38950998016,\n",
       " 'trailingEps': 16.38,\n",
       " 'lastDividendValue': None,\n",
       " 'SandP52WeekChange': 0.21375227,\n",
       " 'priceToBook': 17.807407,\n",
       " 'heldPercentInsiders': None,\n",
       " 'nextFiscalYearEnd': 1640908800,\n",
       " 'mostRecentQuarter': 1577750400,\n",
       " 'shortRatio': None,\n",
       " 'sharesShortPreviousMonthDate': None,\n",
       " 'floatShares': 1677564000,\n",
       " 'enterpriseValue': 1014597615616,\n",
       " 'threeYearAverageReturn': None,\n",
       " 'lastSplitDate': 1388620800,\n",
       " 'lastSplitFactor': '5:1',\n",
       " 'legalType': None,\n",
       " 'morningStarOverallRating': None,\n",
       " 'earningsQuarterlyGrowth': 0.026,\n",
       " 'dateShortInterest': None,\n",
       " 'pegRatio': None,\n",
       " 'lastCapGain': None,\n",
       " 'shortPercentOfFloat': None,\n",
       " 'sharesShortPriorMonth': None,\n",
       " 'category': None,\n",
       " 'fiveYearAverageReturn': None,\n",
       " 'regularMarketPrice': 435.8,\n",
       " 'logo_url': 'https://logo.clearbit.com/novonordisk.com'}"
      ]
     },
     "execution_count": 11,
     "metadata": {},
     "output_type": "execute_result"
    }
   ],
   "source": [
    "type(novo.info)\n",
    "novo.info"
   ]
  },
  {
   "cell_type": "code",
   "execution_count": 13,
   "metadata": {},
   "outputs": [
    {
     "name": "stdout",
     "output_type": "stream",
     "text": [
      "Denmark\n"
     ]
    }
   ],
   "source": [
    "print(novo.info['country'])"
   ]
  },
  {
   "cell_type": "code",
   "execution_count": 3,
   "metadata": {},
   "outputs": [
    {
     "data": {
      "image/png": "[encoded data removed]",
      "text/plain": [
       "<Figure size 432x288 with 1 Axes>"
      ]
     },
     "metadata": {
      "needs_background": "light"
     },
     "output_type": "display_data"
    }
   ],
   "source": [
    "plt.plot(novo.history(period=\"max\")['Close'])\n",
    "plt.grid(True)\n",
    "plt.show()"
   ]
  },
  {
   "cell_type": "code",
   "execution_count": null,
   "metadata": {},
   "outputs": [],
   "source": []
  }
 ],
 "metadata": {
  "kernelspec": {
   "display_name": "Python 3",
   "language": "python",
   "name": "python3"
  },
  "language_info": {
   "codemirror_mode": {
    "name": "ipython",
    "version": 3
   },
   "file_extension": ".py",
   "mimetype": "text/x-python",
   "name": "python",
   "nbconvert_exporter": "python",
   "pygments_lexer": "ipython3",
   "version": "3.6.8"
  }
 },
 "nbformat": 4,
 "nbformat_minor": 4
}
