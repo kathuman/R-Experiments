{
 "cells": [
  {
   "cell_type": "code",
   "execution_count": 1,
   "metadata": {},
   "outputs": [
    {
     "name": "stderr",
     "output_type": "stream",
     "text": [
      "Installing package into 'C:/Users/DSEP0001/Documents/R/win-library/3.6'\n",
      "(as 'lib' is unspecified)\n",
      "also installing the dependencies 'bitops', 'RCurl'\n",
      "\n"
     ]
    },
    {
     "name": "stdout",
     "output_type": "stream",
     "text": [
      "\n",
      "  There are binary versions available but the source versions are later:\n",
      "        binary   source needs_compilation\n",
      "RCurl 1.98-1.3 1.98-1.5              TRUE\n",
      "h2o   3.32.1.2 3.32.1.3             FALSE\n",
      "\n",
      "  Binaries will be installed\n",
      "package 'bitops' successfully unpacked and MD5 sums checked\n",
      "package 'RCurl' successfully unpacked and MD5 sums checked\n",
      "\n",
      "The downloaded binary packages are in\n",
      "\tC:\\Users\\DSEP0001\\AppData\\Local\\Temp\\Rtmp6RTa0w\\downloaded_packages\n"
     ]
    },
    {
     "name": "stderr",
     "output_type": "stream",
     "text": [
      "installing the source package 'h2o'\n",
      "\n"
     ]
    },
    {
     "ename": "ERROR",
     "evalue": "Error in !install.packages(\"h2o\"): invalid argument type\n",
     "output_type": "error",
     "traceback": [
      "Error in !install.packages(\"h2o\"): invalid argument type\nTraceback:\n"
     ]
    }
   ],
   "source": [
    "!install.packages(\"h2o\")"
   ]
  },
  {
   "cell_type": "code",
   "execution_count": 4,
   "metadata": {},
   "outputs": [
    {
     "name": "stdout",
     "output_type": "stream",
     "text": [
      "\n",
      "H2O is not running yet, starting it now...\n",
      "<simpleError in system2(command, \"-version\", stdout = TRUE, stderr = TRUE): '\"\"' not found>\n"
     ]
    },
    {
     "ename": "ERROR",
     "evalue": "Error in value[[3L]](cond): You have a 32-bit version of Java. H2O works best with 64-bit Java.\nPlease download the latest Java SE JDK from the following URL:\nhttps://www.oracle.com/technetwork/java/javase/downloads/index.html\n",
     "output_type": "error",
     "traceback": [
      "Error in value[[3L]](cond): You have a 32-bit version of Java. H2O works best with 64-bit Java.\nPlease download the latest Java SE JDK from the following URL:\nhttps://www.oracle.com/technetwork/java/javase/downloads/index.html\nTraceback:\n",
      "1. h2o.init()",
      "2. .h2o.startJar(ip = ip, port = port, name = name, nthreads = nthreads, \n .     max_memory = max_mem_size, min_memory = min_mem_size, enable_assertions = enable_assertions, \n .     forceDL = forceDL, license = license, extra_classpath = extra_classpath, \n .     ice_root = ice_root, stdout = stdout, stderr = stderr, log_dir = log_dir, \n .     log_level = log_level, context_path = context_path, jvm_custom_args = jvm_custom_args, \n .     bind_to_localhost = bind_to_localhost)",
      "3. tryCatch({\n .     system2(command, \"-version\", stdout = TRUE, stderr = TRUE)\n . }, error = function(err) {\n .     print(err)\n .     stop(\"You have a 32-bit version of Java. H2O works best with 64-bit Java.\\n\", \n .         \"Please download the latest Java SE JDK from the following URL:\\n\", \n .         \"https://www.oracle.com/technetwork/java/javase/downloads/index.html\")\n . })",
      "4. tryCatchList(expr, classes, parentenv, handlers)",
      "5. tryCatchOne(expr, names, parentenv, handlers[[1L]])",
      "6. value[[3L]](cond)",
      "7. stop(\"You have a 32-bit version of Java. H2O works best with 64-bit Java.\\n\", \n .     \"Please download the latest Java SE JDK from the following URL:\\n\", \n .     \"https://www.oracle.com/technetwork/java/javase/downloads/index.html\")"
     ]
    }
   ],
   "source": [
    "library(h2o)\n",
    "\n",
    "# Start the H2O cluster (locally)\n",
    "h2o.init()\n",
    "\n",
    "# Import a sample binary outcome train/test set into H2O\n",
    "train <- h2o.importFile(\"https://s3.amazonaws.com/erin-data/higgs/higgs_train_10k.csv\")\n",
    "test <- h2o.importFile(\"https://s3.amazonaws.com/erin-data/higgs/higgs_test_5k.csv\")"
   ]
  },
  {
   "cell_type": "code",
   "execution_count": 5,
   "metadata": {},
   "outputs": [
    {
     "ename": "ERROR",
     "evalue": "Error in as.vector(x): objekt 'train' blev ikke fundet\n",
     "output_type": "error",
     "traceback": [
      "Error in as.vector(x): objekt 'train' blev ikke fundet\nTraceback:\n",
      "1. setdiff(names(train), y)",
      "2. as.vector(x)"
     ]
    }
   ],
   "source": [
    "# Identify predictors and response\n",
    "y <- \"response\"\n",
    "x <- setdiff(names(train), y)\n",
    "\n",
    "# For binary classification, response should be a factor\n",
    "train[, y] <- as.factor(train[, y])\n",
    "test[, y] <- as.factor(test[, y])"
   ]
  },
  {
   "cell_type": "code",
   "execution_count": null,
   "metadata": {},
   "outputs": [],
   "source": [
    "# Run AutoML for 20 base models\n",
    "aml <- h2o.automl(x = x, y = y,\n",
    "                  training_frame = train,\n",
    "                  max_models = 20,\n",
    "                  seed = 1)"
   ]
  },
  {
   "cell_type": "code",
   "execution_count": null,
   "metadata": {},
   "outputs": [],
   "source": [
    "# View the AutoML Leaderboard\n",
    "lb <- aml@leaderboard\n",
    "print(lb, n = nrow(lb))  # Print all rows instead of default (6 rows)"
   ]
  }
 ],
 "metadata": {
  "kernelspec": {
   "display_name": "R",
   "language": "R",
   "name": "ir"
  },
  "language_info": {
   "codemirror_mode": "r",
   "file_extension": ".r",
   "mimetype": "text/x-r-source",
   "name": "R",
   "pygments_lexer": "r",
   "version": "3.6.1"
  }
 },
 "nbformat": 4,
 "nbformat_minor": 4
}
